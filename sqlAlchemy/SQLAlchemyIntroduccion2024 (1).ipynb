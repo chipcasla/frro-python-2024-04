{
 "cells": [
  {
   "cell_type": "markdown",
   "metadata": {
    "id": "TGB56GibQC8r"
   },
   "source": [
    "##  SQLAlchemy\n",
    "\n",
    "Se utilizan para manejar las bases de datos como colecciones de objetos.\n",
    "\n",
    "Ayudan a eliminar trabajo repetitivo.\n",
    "\n",
    "SQLAlchemy es uno de los ORM más usados con Python\n",
    "\n",
    "\n",
    "https://docs.sqlalchemy.org/en/14/orm/tutorial.html\n",
    "\n",
    " "
   ]
  },
  {
   "cell_type": "code",
   "execution_count": null,
   "metadata": {},
   "outputs": [],
   "source": [
    "pip install sqlalchemy\n"
   ]
  },
  {
   "cell_type": "markdown",
   "metadata": {},
   "source": [
    "## ORM: Object Relational Mapper\n",
    "Presenta una forma de asociar:\n",
    "\n",
    "Clases Python definidas por el usuario, con tablas de Bases de Datos. \n",
    "\n",
    "Instancias de esas clases con filas de las correspondientes tablas.\n",
    "\n",
    "Sincroniza cambios de estado en los objetos con las filas relacionadas. (Usa el patrón Unit of Work.)\n",
    "\n",
    "Permite expresar querys en términos de clases definidas por el usuario.\n"
   ]
  },
  {
   "cell_type": "markdown",
   "metadata": {},
   "source": [
    "## Ventajas de usar un ORM\n",
    "\n",
    "Las principales ventajas de usar un ORM son:\n",
    "\n",
    "  Acceder a las tablas y filas de una base de datos como clases y objetos.\n",
    "  \n",
    "  En la mayoría de ocasiones no es necesario usar el lenguaje SQL. El ORM se encarga de hacer las traducciones oportunas.\n",
    "  \n",
    "  Independencia de la base de datos. Es posible cambiar de motor de base de datos modificando muy poco código en la aplicación.\n",
    "  \n",
    "  Incrementa la productividad del desarrollador."
   ]
  },
  {
   "cell_type": "markdown",
   "metadata": {},
   "source": [
    "## Pasos para Usar un ORM \n",
    "\n",
    "Declarar el mapeo de la base de datos (Crea los metadatos)\n",
    "\n",
    "Crear clases para cada entidad\n",
    "\n",
    "Crear Engine para un determinado motor BD\n",
    "\n",
    "Relacionar Engine con metadatos\n",
    "\n",
    "Crear Session, relacionarla con Engine\n",
    "\n",
    "Una vez que su tabla esté mapeada, puede\n",
    "use un objeto de sesión para completar sus objetos en función de los datos en la tabla de usuario y enviar\n",
    "cualquier cambio que realice en los objetos asignados a la base de datos\n"
   ]
  },
  {
   "cell_type": "code",
   "execution_count": 7,
   "metadata": {},
   "outputs": [],
   "source": [
    "## Ejemplo Simple \n",
    "\n",
    "from sqlalchemy import Column, Integer, String\n",
    "from sqlalchemy.orm import declarative_base\n",
    "\n",
    "Base = declarative_base()\n",
    "\n",
    "class SomeClass(Base):\n",
    "    __tablename__ = 'some_table'\n",
    "    id = Column(Integer, primary_key=True)\n",
    "    name =  Column(String(50))"
   ]
  },
  {
   "cell_type": "code",
   "execution_count": 13,
   "metadata": {},
   "outputs": [],
   "source": [
    "## Ejemplo tabla \n",
    "\n",
    "\n",
    "from sqlalchemy.orm import declarative_base\n",
    "Base = declarative_base()\n",
    "\n",
    "from sqlalchemy import Column, Integer, String\n",
    "class User(Base):\n",
    "    __tablename__ = \"users\"\n",
    "    id = Column(Integer, primary_key=True)\n",
    "    name = Column(String)\n",
    "    fullname = Column(String)\n",
    "    nickname = Column(String)\n",
    "\n",
    "    def __repr__(self):\n",
    "        return \"<User(name='%s', fullname='%s', nickname='%s')>\" % (\n",
    "             self.name,\n",
    "             self.fullname,\n",
    "             self.nickname,\n",
    "         )"
   ]
  },
  {
   "cell_type": "markdown",
   "metadata": {},
   "source": [
    "\n",
    "SQLAlchemy SQLite en Disco\n",
    "\n",
    "Windows hay definir el path absoluto con seguido de 3 barras:\n",
    "\n",
    "sqlite:///C:\\Users\\Username\\AppData\\Roaming\\Appname\\mydatabase.db"
   ]
  },
  {
   "cell_type": "code",
   "execution_count": 16,
   "metadata": {},
   "outputs": [],
   "source": [
    "from sqlalchemy import create_engine\n",
    "from sqlalchemy import Column, ForeignKey, Integer, Table\n",
    "from sqlalchemy.orm import declarative_base\n",
    "from sqlalchemy.orm import  relationship\n",
    "from sqlalchemy.orm import sessionmaker, relationship\n",
    "\n",
    "Base = declarative_base()\n",
    "\n",
    "\n",
    "engine1=create_engine('sqlite:///C:\\\\sistemas\\\\py\\\\mydatabase.db')\n",
    "Base=declarative_base()\n",
    "\n",
    "children = relationship(\"Child\", back_populates=\"parent\")\n",
    "class Parent(Base):\n",
    "    __tablename__ = \"parent\"\n",
    "    id = Column(Integer, primary_key=True)\n",
    "    children = relationship(\"Child\", back_populates=\"parent\")\n",
    "    def __repr__(self):\n",
    "        return'Parent id {} '.format(self.id)\n",
    "\n",
    "class Child(Base):\n",
    "    __tablename__ = \"child\"\n",
    "    id = Column(Integer, primary_key=True)\n",
    "    parent_id = Column(Integer, ForeignKey(\"parent.id\"))\n",
    "    parent = relationship(\"Parent\", back_populates=\"children\")    \n",
    "    def __repr__(self):\n",
    "        return'Child id {} paren_id {}'.format(self.id,self.parent_id)\n",
    "    \n",
    "Base.metadata.create_all(engine1)\n",
    "Session=sessionmaker(bind=engine1)\n",
    "session=Session()"
   ]
  },
  {
   "cell_type": "code",
   "execution_count": 17,
   "metadata": {},
   "outputs": [],
   "source": [
    "   \n",
    "padre1 = Parent()\n",
    "hijo1 = Child()\n",
    "hijo1.parent = padre1\n",
    "session.add(hijo1)\n",
    "\n",
    "hijo2 = Child()\n",
    "hijo2.parent = padre1\n",
    "session.add(hijo2)\n",
    "\n",
    "padre3 = Parent()\n",
    "hijo3 = Child()\n",
    "hijo3.parent = padre3\n",
    "session.add(hijo3)\n"
   ]
  },
  {
   "cell_type": "code",
   "execution_count": 18,
   "metadata": {},
   "outputs": [
    {
     "name": "stdout",
     "output_type": "stream",
     "text": [
      "Listado de Parent -> [Parent id 1 , Parent id 2 , Parent id 3 , Parent id 4 , Parent id 5 , Parent id 6 , Parent id 7 , Parent id 8 , Parent id 9 , Parent id 10 , Parent id 11 , Parent id 12 , Parent id 13 , Parent id 14 , Parent id 15 , Parent id 16 , Parent id 17 , Parent id 18 ]\n",
      "Listado de Child -> [Child id 1 paren_id 1, Child id 2 paren_id 1, Child id 3 paren_id 2, Child id 4 paren_id 3, Child id 5 paren_id 3, Child id 6 paren_id 4, Child id 7 paren_id 5, Child id 8 paren_id 5, Child id 9 paren_id 6, Child id 10 paren_id 7, Child id 11 paren_id 7, Child id 12 paren_id 8, Child id 13 paren_id 9, Child id 14 paren_id 10, Child id 15 paren_id 10, Child id 16 paren_id 11, Child id 17 paren_id 12, Child id 18 paren_id 13, Child id 19 paren_id 13, Child id 20 paren_id 14, Child id 21 paren_id 15, Child id 22 paren_id 15, Child id 23 paren_id 16, Child id 24 paren_id 17, Child id 25 paren_id 17, Child id 26 paren_id 18]\n"
     ]
    }
   ],
   "source": [
    "\n",
    "print(\"Listado de Parent ->\",session.query(Parent).all())\n",
    "print(\"Listado de Child ->\",session.query(Child).all())\n",
    "session.commit()\n",
    "session.close()"
   ]
  },
  {
   "cell_type": "markdown",
   "metadata": {
    "id": "xWOIuKSMQC82"
   },
   "source": [
    "Ejercicio\n",
    "\n",
    "\n",
    "\n",
    "Sistema para escuelas en sqlalchemy como parte del curso de \"Bases de datos en Python\"\n",
    "\n",
    "Consigna: Se invita a crear un sistema para una escuela mediante SQLAlchemy. Este sistema permite registrar nuevos alumnos, profesores y cursos.\n",
    "\n",
    "Un alumno es asignado a un curso y un curso puede tener asociado más de un profesor. Los profesores tienen un horario que indica cuando están en cada curso.\n",
    "\n",
    "El horario asociará un curso y un profesor para un día de la semana (Lunes, Martes, Miércoles, Jueves, Viernes, Sábado, Domingo), una hora desde y una hora hasta.\n",
    "\n",
    "El sistema permitirá exportar los alumnos que pertenecen a un curso, el horario de cada profesor y el horario del curso.\n",
    "\n",
    "Se agradece los comentarios o sugerencias que puedan otorgar.\n",
    "\n",
    "Nota: Se consideró que la entidad \"horario\" poseerá dos claves foráneas que harán referencia tanto a \"Curso\" como \"Profesor\" . Se anexa diagrama Entidad-Relación. Otra entidad a poseer una entidad con clave foránea es \"alumno\"\n",
    "\n",
    "\n",
    "# ![Mapa.png](attachment:Mapa.png)"
   ]
  },
  {
   "cell_type": "code",
   "execution_count": 5,
   "metadata": {
    "id": "DKSk0mlaQC85",
    "outputId": "a8889156-fef2-4963-d63f-d1b52a376093"
   },
   "outputs": [
    {
     "name": "stdout",
     "output_type": "stream",
     "text": [
      "Alumno   Nombre Carlos Apellido   Gonzalez \n",
      "Alumno1.Cursos  None\n",
      "Horario1   lunes 7:00 am 8:00 \n",
      "Profesor Curso  Vicente  Huidobro\n",
      "Cursos  [ 1 Fisica ,  2 Quimica ,  3 Estadistica ,  4 Contabilidad ]\n",
      "Crono  [ lunes 7:00 am 8:00 ,  martes 8:00 am 9:00 ,  martes 8:00 am 9:00 ]\n",
      "Profesores  [Vicente  Huidobro, Vicente  Huidobro, JuanSapena]\n"
     ]
    }
   ],
   "source": [
    "#Sistema de escuelas por DawffyddRiv\n",
    "from sqlalchemy import create_engine\n",
    "##from sqlalchemy.ext.declarative import declarative_base\n",
    "from sqlalchemy.orm import declarative_base\n",
    "from sqlalchemy import Column, Integer, String, Sequence, ForeignKey\n",
    "from sqlalchemy.orm import sessionmaker, relationship\n",
    "\n",
    "engine=create_engine('sqlite:///:memory:')\n",
    "##Base=declarative_base(engine)\n",
    "Base=declarative_base()\n",
    "\n",
    "\n",
    "class Estudiante(Base):\n",
    "    __tablename__=\"alumno\"   \n",
    "    id=Column(Integer,Sequence('alumno_seq_id'),primary_key=True)\n",
    "    nombrea=Column(String)\n",
    "    apellidoa=Column(String)\n",
    "    curso_ida=Column(Integer,ForeignKey('curso.id'))\n",
    "    \n",
    "    cursos=relationship(\"Course\",back_populates='estudiantes')\n",
    "    def __repr__(self):\n",
    "        return' Nombre {} Apellido {} '.format(self.nombrea, self.apellidoa)\n",
    "\n",
    "class Course(Base):\n",
    "    __tablename__='curso'\n",
    "    id=Column(Integer, Sequence('curso_seq_id'),primary_key=True)\n",
    "    nombrec=Column(String)\n",
    "        \n",
    "    estudiantes=relationship(\"Estudiante\",back_populates='cursos')\n",
    "    hora_curso=relationship(\"Crono\",back_populates='curso_hora')\n",
    "    def __repr__(self):\n",
    "        return' {} {} '.format(self.id,self.nombrec)\n",
    "\n",
    "class Crono(Base):\n",
    "    __tablename__='horario'\n",
    "    id=Column(Integer, Sequence('horario_seq_id'),primary_key=True)\n",
    "    dia=Column(String)\n",
    "    hora_inicio=Column(String)\n",
    "    hora_fin=Column(String)\n",
    "    profesor_id=Column(Integer,ForeignKey('profesor.id'))\n",
    "    curso_id=Column(Integer,ForeignKey('curso.id'))\n",
    "    \n",
    "    curso_hora=relationship(\"Course\",back_populates='hora_curso')\n",
    "    curso_profe=relationship(\"Maestro\",back_populates='profe_curso')\n",
    "\n",
    "    def __repr__(self):\n",
    "        return' {} {} {} '.format(self.dia,self.hora_inicio, self.hora_fin)\n",
    "\n",
    "class Maestro(Base):\n",
    "    __tablename__='profesor'\n",
    "    id=Column(Integer, Sequence('profesor_seq_id'),primary_key=True)\n",
    "    nombrep=Column(String)\n",
    "    apellidop=Column(String)\n",
    "    \n",
    "    profe_curso=relationship(\"Crono\",back_populates='curso_profe')\n",
    "    def __repr__(self):\n",
    "        return'{}{}'.format(self.nombrep, self.apellidop)\n",
    "\n",
    "\n",
    "Base.metadata.create_all(engine)\n",
    "\n",
    "Session=sessionmaker(bind=engine)\n",
    "session=Session()\n",
    "\n",
    "curso1=Course(nombrec=\"Fisica\")\n",
    "session.add(curso1)\n",
    "\n",
    "alumno1=Estudiante(nombrea='Carlos', apellidoa='  Gonzalez')\n",
    "print(\"Alumno \",alumno1)\n",
    "session.add(alumno1)\n",
    "##alumno1.cursos=Course(nombrec='Fisica')\n",
    "##alumno1.cursos=curso1\n",
    "alumno1.curso_ida=curso1.id\n",
    "\n",
    "print(\"Alumno1.Cursos \",alumno1.cursos)\n",
    "\n",
    "horario1=Crono(dia='lunes',hora_inicio=\"7:00 am\", hora_fin='8:00')\n",
    "horario1.curso_hora=Course(nombrec='Quimica')\n",
    "horario1.curso_profe=Maestro(nombrep='Vicente',apellidop='  Huidobro')\n",
    "session.add(horario1)\n",
    "\n",
    "\n",
    "horario2=Crono(dia='martes',hora_inicio=\"8:00 am\", hora_fin='9:00')\n",
    "horario2.curso_hora=Course(nombrec='Estadistica')\n",
    "horario2.curso_profe=Maestro(nombrep='Vicente',apellidop='  Huidobro')\n",
    "session.add(horario2)\n",
    "\n",
    "horario3=Crono(dia='martes',hora_inicio=\"8:00 am\", hora_fin='9:00')\n",
    "horario3.curso_hora=Course(nombrec='Contabilidad')\n",
    "horario3.curso_profe=Maestro(nombrep='Juan',apellidop='Sapena')\n",
    "session.add(horario3)\n",
    "\n",
    "print(\"Horario1 \",horario1)\n",
    "print(\"Profesor Curso \",horario1.curso_profe)\n",
    "print(\"Cursos \",session.query(Course).filter(Maestro.profe_curso.any()).all())\n",
    "print(\"Crono \",session.query(Crono).filter(Maestro.profe_curso.any()).all())\n",
    "print(\"Profesores \",session.query(Maestro).all())\n",
    "\n",
    "session.commit()"
   ]
  },
  {
   "cell_type": "code",
   "execution_count": 2,
   "metadata": {},
   "outputs": [
    {
     "name": "stdout",
     "output_type": "stream",
     "text": [
      "Collecting sqlalchemy\n",
      "  Downloading SQLAlchemy-2.0.30-cp39-cp39-win_amd64.whl (2.1 MB)\n",
      "     ---------------------------------------- 2.1/2.1 MB 7.8 MB/s eta 0:00:00\n",
      "Collecting greenlet!=0.4.17\n",
      "  Downloading greenlet-3.0.3-cp39-cp39-win_amd64.whl (290 kB)\n",
      "     ---------------------------------------- 290.8/290.8 kB ? eta 0:00:00\n",
      "Requirement already satisfied: typing-extensions>=4.6.0 in c:\\sistemas\\anaconda\\envs\\py\\lib\\site-packages (from sqlalchemy) (4.9.0)\n",
      "Installing collected packages: greenlet, sqlalchemy\n",
      "Successfully installed greenlet-3.0.3 sqlalchemy-2.0.30\n",
      "Note: you may need to restart the kernel to use updated packages.\n"
     ]
    }
   ],
   "source": []
  },
  {
   "cell_type": "markdown",
   "metadata": {
    "id": "ZEC24NiqQC85"
   },
   "source": [
    "# ![Mapa.png](attachment:Mapa.png)"
   ]
  },
  {
   "cell_type": "code",
   "execution_count": 2,
   "metadata": {
    "id": "shRVf-BKQC88",
    "outputId": "758be50b-4544-4ea7-eb42-fdc28f4f376e"
   },
   "outputs": [
    {
     "name": "stdout",
     "output_type": "stream",
     "text": [
      " Nombre Omar Apellido   Bomba \n",
      " None Quimica \n"
     ]
    }
   ],
   "source": [
    "alumno1=Estudiante(nombrea='Omar', apellidoa='  Bomba')\n",
    "print(alumno1)\n",
    "session.add(alumno1)\n",
    "alumno1.cursos=Course(nombrec='Quimica')\n",
    "print(alumno1.cursos)"
   ]
  },
  {
   "cell_type": "code",
   "execution_count": 3,
   "metadata": {
    "id": "2AFGMpZQQC89",
    "outputId": "535967f2-1d42-4a01-aedc-cbd5b6fb48f6"
   },
   "outputs": [
    {
     "name": "stdout",
     "output_type": "stream",
     "text": [
      " Nombre Esteban Apellido   Banco \n",
      " None Quimica \n"
     ]
    }
   ],
   "source": [
    "alumno1=Estudiante(nombrea='Esteban', apellidoa='  Banco')\n",
    "print(alumno1)\n",
    "session.add(alumno1)\n",
    "alumno1.cursos=Course(nombrec='Quimica')\n",
    "print(alumno1.cursos)"
   ]
  },
  {
   "cell_type": "code",
   "execution_count": 4,
   "metadata": {},
   "outputs": [
    {
     "name": "stdout",
     "output_type": "stream",
     "text": [
      "Estudiantes  [ Nombre Carlos Apellido   Gonzalez ,  Nombre Omar Apellido   Bomba ,  Nombre Esteban Apellido   Banco ]\n"
     ]
    }
   ],
   "source": [
    "print(\"Estudiantes \",session.query(Estudiante).all())"
   ]
  },
  {
   "cell_type": "code",
   "execution_count": 5,
   "metadata": {},
   "outputs": [
    {
     "name": "stdout",
     "output_type": "stream",
     "text": [
      "[ 1 Fisica ,  2 Quimica ,  3 Estadistica ,  4 Contabilidad ,  5 Quimica ,  6 Quimica ]\n"
     ]
    }
   ],
   "source": [
    "print( session.query(Course).all())"
   ]
  },
  {
   "cell_type": "code",
   "execution_count": 6,
   "metadata": {},
   "outputs": [
    {
     "name": "stdout",
     "output_type": "stream",
     "text": [
      "[ 5 Quimica ,  6 Quimica ]\n"
     ]
    }
   ],
   "source": [
    "print( session.query(Course).join(Estudiante).all())"
   ]
  },
  {
   "cell_type": "code",
   "execution_count": 7,
   "metadata": {},
   "outputs": [
    {
     "name": "stdout",
     "output_type": "stream",
     "text": [
      "[( 5 Quimica ,  Nombre Omar Apellido   Bomba ), ( 6 Quimica ,  Nombre Esteban Apellido   Banco )]\n"
     ]
    }
   ],
   "source": [
    "print( session.query(Course,Estudiante).join(Estudiante).all())"
   ]
  },
  {
   "cell_type": "code",
   "execution_count": 8,
   "metadata": {
    "id": "-lwwh0R2QC8-",
    "outputId": "9dbd39ad-52e3-4c4f-fb87-210ba3bd53fb"
   },
   "outputs": [
    {
     "name": "stdout",
     "output_type": "stream",
     "text": [
      "Curso 1  Curso Fisica Id 1  1\n",
      "Horario  None\n",
      "Maestro Curso  Eldo Nerdo 2\n",
      "Horario que Dicta  [Id Crono 1 Id Curso 5 Dia lunes Inicio 7:00 am Fin 8:00]\n",
      "Todos Horario  [Id Crono 1 Id Curso 5 Dia lunes Inicio 7:00 am Fin 8:00, Id Crono 2 Id Curso 6 Dia martes Inicio 6:00 am Fin 7:00]\n",
      "Todos Maestro  [Vicente  Huidobro, Eldo Nerdo]\n",
      "todos Estudiante  [Carlos  Gonzalez, Pedro  Piedras, Esteban  Banco, Omar  Bomba]\n"
     ]
    }
   ],
   "source": [
    "# Sistema de escuelas por DawffyddRiv\n",
    "from sqlalchemy import create_engine\n",
    "from sqlalchemy.ext.declarative import declarative_base\n",
    "from sqlalchemy import Column, Integer, String, Sequence, ForeignKey\n",
    "from sqlalchemy.orm import sessionmaker, relationship\n",
    "\n",
    "engine = create_engine('sqlite:///:memory:')\n",
    "Base = declarative_base(engine)\n",
    "\n",
    "\n",
    "class Estudiante(Base):\n",
    "    __tablename__ = \"alumno\"\n",
    "    id = Column(Integer, Sequence('alumno_seq_id'), primary_key=True)\n",
    "    nombrea = Column(String)\n",
    "    apellidoa = Column(String)\n",
    "    curso_ida = Column(Integer, ForeignKey('curso.id'))\n",
    "\n",
    "    cursos = relationship(\"Course\", back_populates='estudiantes')\n",
    "\n",
    "    def __repr__(self):\n",
    "        return '{}{}'.format(self.nombrea, self.apellidoa)\n",
    "\n",
    "\n",
    "class Course(Base):\n",
    "    __tablename__ = 'curso'\n",
    "    id = Column(Integer, Sequence('curso_seq_id'), primary_key=True)\n",
    "    nombrec = Column(String)\n",
    "\n",
    "    estudiantes = relationship(\"Estudiante\", back_populates='cursos')\n",
    "    hora_curso = relationship(\"Crono\", back_populates='curso_hora')\n",
    "\n",
    "    def __repr__(self):\n",
    "        return 'Curso {} Id {} '.format(self.nombrec,self.id)\n",
    "\n",
    "\n",
    "class Crono(Base):\n",
    "    __tablename__ = 'horario'\n",
    "    id = Column(Integer, Sequence('horario_seq_id'), primary_key=True)\n",
    "    dia = Column(String)\n",
    "    hora_inicio = Column(String)\n",
    "    hora_fin = Column(String)\n",
    "    profesor_id = Column(Integer, ForeignKey('profesor.id'))\n",
    "    curso_id = Column(Integer, ForeignKey('curso.id'))\n",
    "\n",
    "    curso_hora = relationship(\"Course\", back_populates='hora_curso')\n",
    "    curso_profe = relationship(\"Maestro\", back_populates='profe_curso')\n",
    "\n",
    "    def __repr__(self):\n",
    "        return 'Id Crono {} Id Curso {} Dia {} Inicio {} Fin {}'.format(self.id,self.curso_id,self.dia, self.hora_inicio, self.hora_fin)\n",
    "\n",
    "\n",
    "class Maestro(Base):\n",
    "    __tablename__ = 'profesor'\n",
    "    id = Column(Integer, Sequence('profesor_seq_id'), primary_key=True)\n",
    "    nombrep = Column(String)\n",
    "    apellidop = Column(String)\n",
    "\n",
    "    profe_curso = relationship(\"Crono\", back_populates='curso_profe')\n",
    "\n",
    "    def __repr__(self):\n",
    "        return '{}{}'.format(self.nombrep, self.apellidop)\n",
    "\n",
    "\n",
    "Base.metadata.create_all(engine)\n",
    "\n",
    "Session = sessionmaker(bind=engine)\n",
    "session = Session()\n",
    "\n",
    "alumno0 = Estudiante(nombrea='Carlos', apellidoa='  Gonzalez')\n",
    "alumno0.cursos = Course(nombrec='Fisica')\n",
    "session.add(alumno0)\n",
    "\n",
    "alumno1 = Estudiante(nombrea='Pedro', apellidoa='  Piedras')\n",
    "alumno1.cursos = Course(nombrec='Fisica')\n",
    "session.add(alumno1)\n",
    "\n",
    "\n",
    "alumno2=Estudiante(nombrea='Esteban', apellidoa='  Banco')\n",
    "alumno2.cursos=Course(nombrec='Quimica')\n",
    "session.add(alumno2)\n",
    "\n",
    "alumno3=Estudiante(nombrea='Omar', apellidoa='  Bomba')\n",
    "alumno3.cursos=Course(nombrec='Quimica')\n",
    "session.add(alumno3)\n",
    "\n",
    "\n",
    "\n",
    "\n",
    "horario1 = Crono(dia='lunes', hora_inicio=\"7:00 am\", hora_fin='8:00')\n",
    "horario1.curso_hora = Course(nombrec='Quimica')\n",
    "horario1.curso_profe = Maestro(nombrep='Vicente', apellidop='  Huidobro')\n",
    "session.add(horario1)\n",
    "\n",
    "\n",
    "horario2 = Crono(dia='martes', hora_inicio=\"6:00 am\", hora_fin='7:00')\n",
    "horario2.curso_hora = Course(nombrec='Fisica')\n",
    "horario2.curso_profe = Maestro(nombrep='Eldo', apellidop=' Nerdo')\n",
    "session.add(horario2)\n",
    "\n",
    "\n",
    "curso0 = session.query(Course).filter().first()\n",
    "print(\"Curso 1 \", curso0 , curso0.id)\n",
    "\n",
    "hora0 = session.query(Crono).filter(Crono.curso_id==curso0.id).first()\n",
    "print(\"Horario \",hora0)\n",
    "\n",
    "print(\"Maestro Curso \", horario2.curso_profe,horario2.profesor_id)\n",
    "\n",
    "##print(\"Curso que Dicta \",session.query(Course).filter(Cou      Maestro.profe_curso.any()).all())\n",
    "print(\"Horario que Dicta \",session.query(Crono).filter( Crono.profesor_id==horario1.profesor_id).all())\n",
    "\n",
    "print(\"Todos Horario \",session.query(Crono).all())\n",
    "print(\"Todos Maestro \",session.query(Maestro).filter(Maestro.profe_curso.any()).all())\n",
    "print(\"todos Estudiante \",session.query(Estudiante).filter().all())\n",
    "\n",
    "session.commit()"
   ]
  },
  {
   "cell_type": "markdown",
   "metadata": {
    "id": "TlN1zcRIQC8_"
   },
   "source": [
    "Elejemplo Bases de Datos"
   ]
  },
  {
   "cell_type": "code",
   "execution_count": 9,
   "metadata": {
    "id": "tlgAcFpwQC9A"
   },
   "outputs": [],
   "source": [
    "from sqlalchemy import create_engine\n",
    "from sqlalchemy.ext.declarative import declarative_base\n",
    "from sqlalchemy import Column, Integer, String, Sequence, ForeignKey,Boolean,Numeric\n",
    "from sqlalchemy.orm import sessionmaker, relationship\n",
    "\n",
    "engine = create_engine('sqlite:///:memory:')\n",
    "Base = declarative_base(engine)\n",
    "\n",
    "class Product(Base):\n",
    "    __tablename__ = 'producto'\n",
    "    id=Column(Integer, primary_key=True)\n",
    "    titulo=Column('titulo', String(32))\n",
    "    en_stock=Column('en_stock', Boolean)\n",
    "    cantidad=Column('cantidad', Integer)\n",
    "    precio=Column('precio', Numeric)"
   ]
  },
  {
   "cell_type": "markdown",
   "metadata": {
    "id": "oep1GfUUQC9C"
   },
   "source": [
    "Relacion Uno a Muchos \n",
    "Un Articulo , con muchos comentarios "
   ]
  },
  {
   "cell_type": "code",
   "execution_count": 10,
   "metadata": {
    "id": "qAIPI-tDQC9C"
   },
   "outputs": [],
   "source": [
    "from sqlalchemy import create_engine\n",
    "from sqlalchemy.ext.declarative import declarative_base\n",
    "from sqlalchemy import Column, Integer, String, Sequence, ForeignKey,Boolean,Numeric\n",
    "from sqlalchemy.orm import sessionmaker, relationship\n",
    "\n",
    "engine = create_engine('sqlite:///:memory:')\n",
    "Base = declarative_base(engine)\n",
    "\n",
    "\n",
    "class Article(Base):\n",
    "    __tablename__ = 'articles'\n",
    "    id = Column(Integer, primary_key=True)\n",
    "    comments = relationship(\"Comment\")\n",
    "\n",
    "\n",
    "class Comment(Base):\n",
    "    __tablename__ = 'comments'\n",
    "    id = Column(Integer, primary_key=True)\n",
    "    article_id = Column(Integer, ForeignKey('articles.id'))"
   ]
  },
  {
   "cell_type": "markdown",
   "metadata": {
    "id": "Q1VXV1VQQC9C"
   },
   "source": [
    "Relacion Muchos a Uno "
   ]
  },
  {
   "cell_type": "code",
   "execution_count": 11,
   "metadata": {
    "id": "GA5MIh9qQC9D"
   },
   "outputs": [],
   "source": [
    "class Tire(Base):\n",
    "    __tablename__ = 'tires'\n",
    "    id = Column(Integer, primary_key=True)\n",
    "    car_id = Column(Integer, ForeignKey('cars.id'))\n",
    "    car = relationship(\"Car\")\n",
    "\n",
    "\n",
    "class Car(Base):\n",
    "    __tablename__ = 'cars'\n",
    "    id = Column(Integer, primary_key=True)"
   ]
  },
  {
   "cell_type": "markdown",
   "metadata": {
    "id": "tB_Q9jB5QC9D"
   },
   "source": [
    "Relacion de Uno a Uno \n",
    "Atributos de relacion uselist=False / back_populates"
   ]
  },
  {
   "cell_type": "code",
   "execution_count": 12,
   "metadata": {
    "id": "A6XlltBFQC9D"
   },
   "outputs": [],
   "source": [
    "class Person(Base):\n",
    "    __tablename__ = 'people'\n",
    "    id = Column(Integer, primary_key=True)\n",
    "    mobile_phone = relationship(\"MobilePhone\", uselist=False, back_populates=\"person\")\n",
    "\n",
    "class MobilePhone(Base):\n",
    "    __tablename__ = 'mobile_phones'\n",
    "    id = Column(Integer, primary_key=True)\n",
    "    person_id = Column(Integer, ForeignKey('people.id'))\n",
    "    person = relationship(\"Person\", back_populates=\"mobile_phone\")"
   ]
  },
  {
   "cell_type": "markdown",
   "metadata": {
    "id": "fCb5tD94QC9E"
   },
   "source": [
    "Relacion Muchos a Muchos \n",
    "Se crea otra relacion asociar "
   ]
  },
  {
   "cell_type": "code",
   "execution_count": 14,
   "metadata": {
    "id": "9KodVTbAQC9E"
   },
   "outputs": [
    {
     "ename": "NameError",
     "evalue": "name 'Table' is not defined",
     "output_type": "error",
     "traceback": [
      "\u001b[1;31m---------------------------------------------------------------------------\u001b[0m",
      "\u001b[1;31mNameError\u001b[0m                                 Traceback (most recent call last)",
      "\u001b[1;32m<ipython-input-14-d6dc672f82a0>\u001b[0m in \u001b[0;36m<module>\u001b[1;34m\u001b[0m\n\u001b[1;32m----> 1\u001b[1;33m students_classes_association = Table('students_classes', Base.metadata,\n\u001b[0m\u001b[0;32m      2\u001b[0m     \u001b[0mColumn\u001b[0m\u001b[1;33m(\u001b[0m\u001b[1;34m'student_id'\u001b[0m\u001b[1;33m,\u001b[0m \u001b[0mInteger\u001b[0m\u001b[1;33m,\u001b[0m \u001b[0mForeignKey\u001b[0m\u001b[1;33m(\u001b[0m\u001b[1;34m'students.id'\u001b[0m\u001b[1;33m)\u001b[0m\u001b[1;33m)\u001b[0m\u001b[1;33m,\u001b[0m\u001b[1;33m\u001b[0m\u001b[1;33m\u001b[0m\u001b[0m\n\u001b[0;32m      3\u001b[0m     \u001b[0mColumn\u001b[0m\u001b[1;33m(\u001b[0m\u001b[1;34m'class_id'\u001b[0m\u001b[1;33m,\u001b[0m \u001b[0mInteger\u001b[0m\u001b[1;33m,\u001b[0m \u001b[0mForeignKey\u001b[0m\u001b[1;33m(\u001b[0m\u001b[1;34m'classes.id'\u001b[0m\u001b[1;33m)\u001b[0m\u001b[1;33m)\u001b[0m\u001b[1;33m\u001b[0m\u001b[1;33m\u001b[0m\u001b[0m\n\u001b[0;32m      4\u001b[0m )\n\u001b[0;32m      5\u001b[0m \u001b[1;33m\u001b[0m\u001b[0m\n",
      "\u001b[1;31mNameError\u001b[0m: name 'Table' is not defined"
     ]
    }
   ],
   "source": [
    "students_classes_association = Table('students_classes', Base.metadata,\n",
    "    Column('student_id', Integer, ForeignKey('students.id')),\n",
    "    Column('class_id', Integer, ForeignKey('classes.id'))\n",
    ")\n",
    "\n",
    "class Student(Base):\n",
    "    __tablename__ = 'students'\n",
    "    id = Column(Integer, primary_key=True)\n",
    "    classes = relationship(\"Class\", secondary=students_classes_association)\n",
    "\n",
    "class Class(Base):\n",
    "    __tablename__ = 'classes'\n",
    "    id = Column(Integer, primary_key=True)"
   ]
  },
  {
   "cell_type": "code",
   "execution_count": null,
   "metadata": {},
   "outputs": [],
   "source": []
  }
 ],
 "metadata": {
  "celltoolbar": "Edit Metadata",
  "colab": {
   "name": "SQLAlchemyv6.ipynb",
   "provenance": []
  },
  "kernelspec": {
   "display_name": "Python 3 (ipykernel)",
   "language": "python",
   "name": "python3"
  },
  "language_info": {
   "codemirror_mode": {
    "name": "ipython",
    "version": 3
   },
   "file_extension": ".py",
   "mimetype": "text/x-python",
   "name": "python",
   "nbconvert_exporter": "python",
   "pygments_lexer": "ipython3",
   "version": "3.9.12"
  }
 },
 "nbformat": 4,
 "nbformat_minor": 4
}
